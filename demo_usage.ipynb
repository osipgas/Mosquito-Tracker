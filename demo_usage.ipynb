{
 "cells": [
  {
   "cell_type": "markdown",
   "id": "00c75017",
   "metadata": {},
   "source": [
    "Demonstration notebook for end users"
   ]
  },
  {
   "cell_type": "code",
   "execution_count": null,
   "id": "f28726e5",
   "metadata": {},
   "outputs": [],
   "source": [
    "# Visual imports\n",
    "from moviepy.video.io.VideoFileClip import VideoFileClip\n",
    "from IPython.display import display, clear_output\n",
    "from PIL import Image\n",
    "from collections import deque\n",
    "from visualization_utils import draw_trakcs\n",
    "\n",
    "# Physics import\n",
    "from mosquito_detector import MosquitoDetector, AdaptiveThreshold\n",
    "from mosquito_tracker import MosquitoTracker\n",
    "import torch"
   ]
  },
  {
   "cell_type": "code",
   "execution_count": null,
   "id": "95633fdc",
   "metadata": {},
   "outputs": [],
   "source": [
    "device = torch.device(\"mps\" if torch.backends.mps.is_available() else \"cpu\")\n",
    "clip = VideoFileClip(\"data/mosquito_videos/1.mp4\")\n",
    "video = clip.iter_frames(fps=30)"
   ]
  },
  {
   "cell_type": "code",
   "execution_count": null,
   "id": "ce1d352a",
   "metadata": {},
   "outputs": [],
   "source": [
    "kernel_size = 10\n",
    "\n",
    "adaptive_threshold = AdaptiveThreshold(rate=0.1, percentile=0.99)\n",
    "detector = MosquitoDetector(adaptive_threshold, kernel_size=kernel_size, stride=2, sigma=3, device=device)\n",
    "\n",
    "frame_buffer = deque(maxlen=10)\n",
    "frame_buffer.append(detector.grayscale(torch.from_numpy(next(video).copy()).to(device)))\n",
    "frame_buffer.append(detector.grayscale(torch.from_numpy(next(video).copy()).to(device)))\n",
    "\n",
    "tracker = MosquitoTracker(min_hits=7, max_age=5, threshold_radius=80, frame_size=frame_buffer[0].shape, device=device)"
   ]
  },
  {
   "cell_type": "code",
   "execution_count": null,
   "id": "d10fa77c",
   "metadata": {},
   "outputs": [],
   "source": [
    "for i, np_frame in enumerate(video):\n",
    "    frame = detector.grayscale(torch.from_numpy(np_frame.copy()).to(device))\n",
    "    frame_buffer.append(frame)\n",
    "\n",
    "    centers, conf = detector.detect(frame_buffer)\n",
    "\n",
    "    tracks = tracker.update(centers, conf)\n",
    "    drawed_frame = draw_trakcs(np_frame, tracks, kernel_size, centers=True)\n",
    "    clear_output(wait=True)\n",
    "    display(Image.fromarray(drawed_frame))"
   ]
  }
 ],
 "metadata": {
  "kernelspec": {
   "display_name": "venv",
   "language": "python",
   "name": "python3"
  },
  "language_info": {
   "codemirror_mode": {
    "name": "ipython",
    "version": 3
   },
   "file_extension": ".py",
   "mimetype": "text/x-python",
   "name": "python",
   "nbconvert_exporter": "python",
   "pygments_lexer": "ipython3",
   "version": "3.11.12"
  }
 },
 "nbformat": 4,
 "nbformat_minor": 5
}
